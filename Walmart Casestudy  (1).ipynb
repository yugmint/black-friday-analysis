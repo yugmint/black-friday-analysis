{
 "cells": [
  {
   "cell_type": "markdown",
   "id": "95e632be",
   "metadata": {},
   "source": [
    "## About Walmart\n",
    "\n",
    "Walmart is an American multinational retail corporation that operates a chain of supercenters, discount departmental stores, and grocery stores from the United States. Walmart has more than 100 million customers worldwide.\n",
    "\n",
    "\n",
    "## Business Problem\n",
    "\n",
    "The Management team at Walmart Inc. wants to analyze the customer purchase behavior (specifically, purchase amount) against the customer’s gender and the various other factors to help the business make better decisions. They want to understand if the spending habits differ between male and female customers: Do women spend more on Black Friday than men? (Assume 50 million customers are male and 50 million are female)."
   ]
  },
  {
   "cell_type": "markdown",
   "id": "4b535d19",
   "metadata": {},
   "source": [
    "# Basic Analysis\n",
    "Import the dataset and do usual data analysis steps like checking the structure & characteristics of the dataset."
   ]
  },
  {
   "cell_type": "code",
   "execution_count": 1,
   "id": "00d20918",
   "metadata": {},
   "outputs": [],
   "source": [
    "import pandas as pd\n",
    "import numpy as np\n",
    "import matplotlib.pyplot as plt\n",
    "import seaborn as sns\n",
    "from scipy.stats import norm"
   ]
  },
  {
   "cell_type": "code",
   "execution_count": 2,
   "id": "11d76205",
   "metadata": {},
   "outputs": [
    {
     "data": {
      "text/html": [
       "<div>\n",
       "<style scoped>\n",
       "    .dataframe tbody tr th:only-of-type {\n",
       "        vertical-align: middle;\n",
       "    }\n",
       "\n",
       "    .dataframe tbody tr th {\n",
       "        vertical-align: top;\n",
       "    }\n",
       "\n",
       "    .dataframe thead th {\n",
       "        text-align: right;\n",
       "    }\n",
       "</style>\n",
       "<table border=\"1\" class=\"dataframe\">\n",
       "  <thead>\n",
       "    <tr style=\"text-align: right;\">\n",
       "      <th></th>\n",
       "      <th>User_ID</th>\n",
       "      <th>Product_ID</th>\n",
       "      <th>Gender</th>\n",
       "      <th>Age</th>\n",
       "      <th>Occupation</th>\n",
       "      <th>City_Category</th>\n",
       "      <th>Stay_In_Current_City_Years</th>\n",
       "      <th>Marital_Status</th>\n",
       "      <th>Product_Category</th>\n",
       "      <th>Purchase</th>\n",
       "    </tr>\n",
       "  </thead>\n",
       "  <tbody>\n",
       "    <tr>\n",
       "      <th>0</th>\n",
       "      <td>1000001</td>\n",
       "      <td>P00069042</td>\n",
       "      <td>F</td>\n",
       "      <td>0-17</td>\n",
       "      <td>10</td>\n",
       "      <td>A</td>\n",
       "      <td>2</td>\n",
       "      <td>0</td>\n",
       "      <td>3</td>\n",
       "      <td>8370</td>\n",
       "    </tr>\n",
       "    <tr>\n",
       "      <th>1</th>\n",
       "      <td>1000001</td>\n",
       "      <td>P00248942</td>\n",
       "      <td>F</td>\n",
       "      <td>0-17</td>\n",
       "      <td>10</td>\n",
       "      <td>A</td>\n",
       "      <td>2</td>\n",
       "      <td>0</td>\n",
       "      <td>1</td>\n",
       "      <td>15200</td>\n",
       "    </tr>\n",
       "    <tr>\n",
       "      <th>2</th>\n",
       "      <td>1000001</td>\n",
       "      <td>P00087842</td>\n",
       "      <td>F</td>\n",
       "      <td>0-17</td>\n",
       "      <td>10</td>\n",
       "      <td>A</td>\n",
       "      <td>2</td>\n",
       "      <td>0</td>\n",
       "      <td>12</td>\n",
       "      <td>1422</td>\n",
       "    </tr>\n",
       "    <tr>\n",
       "      <th>3</th>\n",
       "      <td>1000001</td>\n",
       "      <td>P00085442</td>\n",
       "      <td>F</td>\n",
       "      <td>0-17</td>\n",
       "      <td>10</td>\n",
       "      <td>A</td>\n",
       "      <td>2</td>\n",
       "      <td>0</td>\n",
       "      <td>12</td>\n",
       "      <td>1057</td>\n",
       "    </tr>\n",
       "    <tr>\n",
       "      <th>4</th>\n",
       "      <td>1000002</td>\n",
       "      <td>P00285442</td>\n",
       "      <td>M</td>\n",
       "      <td>55+</td>\n",
       "      <td>16</td>\n",
       "      <td>C</td>\n",
       "      <td>4+</td>\n",
       "      <td>0</td>\n",
       "      <td>8</td>\n",
       "      <td>7969</td>\n",
       "    </tr>\n",
       "  </tbody>\n",
       "</table>\n",
       "</div>"
      ],
      "text/plain": [
       "   User_ID Product_ID Gender   Age  Occupation City_Category  \\\n",
       "0  1000001  P00069042      F  0-17          10             A   \n",
       "1  1000001  P00248942      F  0-17          10             A   \n",
       "2  1000001  P00087842      F  0-17          10             A   \n",
       "3  1000001  P00085442      F  0-17          10             A   \n",
       "4  1000002  P00285442      M   55+          16             C   \n",
       "\n",
       "  Stay_In_Current_City_Years  Marital_Status  Product_Category  Purchase  \n",
       "0                          2               0                 3      8370  \n",
       "1                          2               0                 1     15200  \n",
       "2                          2               0                12      1422  \n",
       "3                          2               0                12      1057  \n",
       "4                         4+               0                 8      7969  "
      ]
     },
     "execution_count": 2,
     "metadata": {},
     "output_type": "execute_result"
    }
   ],
   "source": [
    "df=pd.read_csv(\"F:/Programming/Project/Walmart/walmart_data.csv\")\n",
    "df.head()"
   ]
  },
  {
   "cell_type": "code",
   "execution_count": 3,
   "id": "f8e71b5c",
   "metadata": {},
   "outputs": [
    {
     "data": {
      "text/plain": [
       "(550068, 10)"
      ]
     },
     "execution_count": 3,
     "metadata": {},
     "output_type": "execute_result"
    }
   ],
   "source": [
    "df.shape"
   ]
  },
  {
   "cell_type": "code",
   "execution_count": 4,
   "id": "db2628ce",
   "metadata": {},
   "outputs": [
    {
     "name": "stdout",
     "output_type": "stream",
     "text": [
      "<class 'pandas.core.frame.DataFrame'>\n",
      "RangeIndex: 550068 entries, 0 to 550067\n",
      "Data columns (total 10 columns):\n",
      " #   Column                      Non-Null Count   Dtype \n",
      "---  ------                      --------------   ----- \n",
      " 0   User_ID                     550068 non-null  int64 \n",
      " 1   Product_ID                  550068 non-null  object\n",
      " 2   Gender                      550068 non-null  object\n",
      " 3   Age                         550068 non-null  object\n",
      " 4   Occupation                  550068 non-null  int64 \n",
      " 5   City_Category               550068 non-null  object\n",
      " 6   Stay_In_Current_City_Years  550068 non-null  object\n",
      " 7   Marital_Status              550068 non-null  int64 \n",
      " 8   Product_Category            550068 non-null  int64 \n",
      " 9   Purchase                    550068 non-null  int64 \n",
      "dtypes: int64(5), object(5)\n",
      "memory usage: 42.0+ MB\n"
     ]
    }
   ],
   "source": [
    "df.info()"
   ]
  },
  {
   "cell_type": "code",
   "execution_count": 5,
   "id": "ab73a403",
   "metadata": {},
   "outputs": [
    {
     "data": {
      "text/plain": [
       "User_ID                        5891\n",
       "Product_ID                     3631\n",
       "Gender                            2\n",
       "Age                               7\n",
       "Occupation                       21\n",
       "City_Category                     3\n",
       "Stay_In_Current_City_Years        5\n",
       "Marital_Status                    2\n",
       "Product_Category                 20\n",
       "Purchase                      18105\n",
       "dtype: int64"
      ]
     },
     "execution_count": 5,
     "metadata": {},
     "output_type": "execute_result"
    }
   ],
   "source": [
    "df.nunique()"
   ]
  },
  {
   "cell_type": "code",
   "execution_count": 6,
   "id": "b8375cae",
   "metadata": {},
   "outputs": [
    {
     "data": {
      "text/plain": [
       "User_ID                       0\n",
       "Product_ID                    0\n",
       "Gender                        0\n",
       "Age                           0\n",
       "Occupation                    0\n",
       "City_Category                 0\n",
       "Stay_In_Current_City_Years    0\n",
       "Marital_Status                0\n",
       "Product_Category              0\n",
       "Purchase                      0\n",
       "dtype: int64"
      ]
     },
     "execution_count": 6,
     "metadata": {},
     "output_type": "execute_result"
    }
   ],
   "source": [
    "df.isnull().sum()"
   ]
  },
  {
   "cell_type": "markdown",
   "id": "83e873b7",
   "metadata": {},
   "source": [
    "## Statistcal Values:"
   ]
  },
  {
   "cell_type": "code",
   "execution_count": 7,
   "id": "e6fedcdf",
   "metadata": {},
   "outputs": [
    {
     "data": {
      "text/html": [
       "<div>\n",
       "<style scoped>\n",
       "    .dataframe tbody tr th:only-of-type {\n",
       "        vertical-align: middle;\n",
       "    }\n",
       "\n",
       "    .dataframe tbody tr th {\n",
       "        vertical-align: top;\n",
       "    }\n",
       "\n",
       "    .dataframe thead th {\n",
       "        text-align: right;\n",
       "    }\n",
       "</style>\n",
       "<table border=\"1\" class=\"dataframe\">\n",
       "  <thead>\n",
       "    <tr style=\"text-align: right;\">\n",
       "      <th></th>\n",
       "      <th>User_ID</th>\n",
       "      <th>Occupation</th>\n",
       "      <th>Marital_Status</th>\n",
       "      <th>Product_Category</th>\n",
       "      <th>Purchase</th>\n",
       "    </tr>\n",
       "  </thead>\n",
       "  <tbody>\n",
       "    <tr>\n",
       "      <th>count</th>\n",
       "      <td>5.500680e+05</td>\n",
       "      <td>550068.000000</td>\n",
       "      <td>550068.000000</td>\n",
       "      <td>550068.000000</td>\n",
       "      <td>550068.000000</td>\n",
       "    </tr>\n",
       "    <tr>\n",
       "      <th>mean</th>\n",
       "      <td>1.003029e+06</td>\n",
       "      <td>8.076707</td>\n",
       "      <td>0.409653</td>\n",
       "      <td>5.404270</td>\n",
       "      <td>9263.968713</td>\n",
       "    </tr>\n",
       "    <tr>\n",
       "      <th>std</th>\n",
       "      <td>1.727592e+03</td>\n",
       "      <td>6.522660</td>\n",
       "      <td>0.491770</td>\n",
       "      <td>3.936211</td>\n",
       "      <td>5023.065394</td>\n",
       "    </tr>\n",
       "    <tr>\n",
       "      <th>min</th>\n",
       "      <td>1.000001e+06</td>\n",
       "      <td>0.000000</td>\n",
       "      <td>0.000000</td>\n",
       "      <td>1.000000</td>\n",
       "      <td>12.000000</td>\n",
       "    </tr>\n",
       "    <tr>\n",
       "      <th>25%</th>\n",
       "      <td>1.001516e+06</td>\n",
       "      <td>2.000000</td>\n",
       "      <td>0.000000</td>\n",
       "      <td>1.000000</td>\n",
       "      <td>5823.000000</td>\n",
       "    </tr>\n",
       "    <tr>\n",
       "      <th>50%</th>\n",
       "      <td>1.003077e+06</td>\n",
       "      <td>7.000000</td>\n",
       "      <td>0.000000</td>\n",
       "      <td>5.000000</td>\n",
       "      <td>8047.000000</td>\n",
       "    </tr>\n",
       "    <tr>\n",
       "      <th>75%</th>\n",
       "      <td>1.004478e+06</td>\n",
       "      <td>14.000000</td>\n",
       "      <td>1.000000</td>\n",
       "      <td>8.000000</td>\n",
       "      <td>12054.000000</td>\n",
       "    </tr>\n",
       "    <tr>\n",
       "      <th>max</th>\n",
       "      <td>1.006040e+06</td>\n",
       "      <td>20.000000</td>\n",
       "      <td>1.000000</td>\n",
       "      <td>20.000000</td>\n",
       "      <td>23961.000000</td>\n",
       "    </tr>\n",
       "  </tbody>\n",
       "</table>\n",
       "</div>"
      ],
      "text/plain": [
       "            User_ID     Occupation  Marital_Status  Product_Category  \\\n",
       "count  5.500680e+05  550068.000000   550068.000000     550068.000000   \n",
       "mean   1.003029e+06       8.076707        0.409653          5.404270   \n",
       "std    1.727592e+03       6.522660        0.491770          3.936211   \n",
       "min    1.000001e+06       0.000000        0.000000          1.000000   \n",
       "25%    1.001516e+06       2.000000        0.000000          1.000000   \n",
       "50%    1.003077e+06       7.000000        0.000000          5.000000   \n",
       "75%    1.004478e+06      14.000000        1.000000          8.000000   \n",
       "max    1.006040e+06      20.000000        1.000000         20.000000   \n",
       "\n",
       "            Purchase  \n",
       "count  550068.000000  \n",
       "mean     9263.968713  \n",
       "std      5023.065394  \n",
       "min        12.000000  \n",
       "25%      5823.000000  \n",
       "50%      8047.000000  \n",
       "75%     12054.000000  \n",
       "max     23961.000000  "
      ]
     },
     "execution_count": 7,
     "metadata": {},
     "output_type": "execute_result"
    }
   ],
   "source": [
    "df.describe()"
   ]
  },
  {
   "cell_type": "code",
   "execution_count": 8,
   "id": "17de83f7",
   "metadata": {},
   "outputs": [
    {
     "data": {
      "text/plain": [
       "array([0, 1], dtype=int64)"
      ]
     },
     "execution_count": 8,
     "metadata": {},
     "output_type": "execute_result"
    }
   ],
   "source": [
    "df['Marital_Status'].unique()"
   ]
  },
  {
   "cell_type": "code",
   "execution_count": 9,
   "id": "30d8a739",
   "metadata": {},
   "outputs": [],
   "source": [
    "df['Marital_Status']=df['Marital_Status'].replace((0,1),('Married','Unmarried'))"
   ]
  },
  {
   "cell_type": "markdown",
   "id": "dc83d132",
   "metadata": {},
   "source": [
    "### Replacing Booleans to Strings/readable values for better readability"
   ]
  },
  {
   "cell_type": "markdown",
   "id": "7a5c3aa5",
   "metadata": {},
   "source": [
    "## Outlier Detection:"
   ]
  },
  {
   "cell_type": "code",
   "execution_count": 10,
   "id": "3f641199",
   "metadata": {},
   "outputs": [
    {
     "data": {
      "image/png": "[encoded data removed]",
      "text/plain": [
       "<Figure size 1440x432 with 1 Axes>"
      ]
     },
     "metadata": {
      "needs_background": "light"
     },
     "output_type": "display_data"
    }
   ],
   "source": [
    "plt.figure(figsize=(20,6))\n",
    "sns.boxplot(data=df, palette=(\"Dark2\"))\n",
    "plt.show()"
   ]
  },
  {
   "cell_type": "code",
   "execution_count": 11,
   "id": "10b43748",
   "metadata": {},
   "outputs": [
    {
     "data": {
      "image/png": "[encoded data removed]",
      "text/plain": [
       "<Figure size 864x360 with 1 Axes>"
      ]
     },
     "metadata": {
      "needs_background": "light"
     },
     "output_type": "display_data"
    }
   ],
   "source": [
    "plt.figure(figsize=(12,5)).suptitle('Outlier Detection',fontsize=25)\n",
    "sns.boxplot(data=df['Purchase'], orient='h', palette=(\"Set1\"))\n",
    "plt.title('Purchase')\n",
    "\n",
    "plt.show()"
   ]
  },
  {
   "cell_type": "markdown",
   "id": "40fa3ab4",
   "metadata": {},
   "source": [
    "### There are several outliers in the purchase field"
   ]
  },
  {
   "cell_type": "code",
   "execution_count": 12,
   "id": "1ee6d6ef",
   "metadata": {},
   "outputs": [
    {
     "name": "stdout",
     "output_type": "stream",
     "text": [
      "Number of Outliers:2677\n",
      "Max Outlier:23961\n",
      "Min Outlier: 21401\n"
     ]
    }
   ],
   "source": [
    "def Outlier_dectect(df):\n",
    "    Q1=df.quantile(0.25)\n",
    "    Q3=df.quantile(0.75)\n",
    "    IQR=Q3-Q1 \n",
    "    outliers = df[(df>(Q3+1.5*IQR)) | ((df<(Q1-1.5*IQR)))]\n",
    "    return outliers \n",
    "outliers = Outlier_dectect(df[\"Purchase\"])\n",
    "print(\"Number of Outliers:\"+ str(len(outliers)))\n",
    "print(\"Max Outlier:\"+ str(outliers.max()))\n",
    "print(\"Min Outlier: \"+ str(outliers.min()))\n"
   ]
  },
  {
   "cell_type": "markdown",
   "id": "695b2327",
   "metadata": {},
   "source": [
    "## Statistcal Values After Handling Outliers:"
   ]
  },
  {
   "cell_type": "code",
   "execution_count": 13,
   "id": "2e7e14cc",
   "metadata": {},
   "outputs": [
    {
     "data": {
      "text/html": [
       "<div>\n",
       "<style scoped>\n",
       "    .dataframe tbody tr th:only-of-type {\n",
       "        vertical-align: middle;\n",
       "    }\n",
       "\n",
       "    .dataframe tbody tr th {\n",
       "        vertical-align: top;\n",
       "    }\n",
       "\n",
       "    .dataframe thead th {\n",
       "        text-align: right;\n",
       "    }\n",
       "</style>\n",
       "<table border=\"1\" class=\"dataframe\">\n",
       "  <thead>\n",
       "    <tr style=\"text-align: right;\">\n",
       "      <th></th>\n",
       "      <th>User_ID</th>\n",
       "      <th>Occupation</th>\n",
       "      <th>Product_Category</th>\n",
       "      <th>Purchase</th>\n",
       "    </tr>\n",
       "  </thead>\n",
       "  <tbody>\n",
       "    <tr>\n",
       "      <th>count</th>\n",
       "      <td>5.500680e+05</td>\n",
       "      <td>550068.000000</td>\n",
       "      <td>550068.000000</td>\n",
       "      <td>550068.000000</td>\n",
       "    </tr>\n",
       "    <tr>\n",
       "      <th>mean</th>\n",
       "      <td>1.003029e+06</td>\n",
       "      <td>8.076707</td>\n",
       "      <td>5.404270</td>\n",
       "      <td>9263.968713</td>\n",
       "    </tr>\n",
       "    <tr>\n",
       "      <th>std</th>\n",
       "      <td>1.727592e+03</td>\n",
       "      <td>6.522660</td>\n",
       "      <td>3.936211</td>\n",
       "      <td>5023.065394</td>\n",
       "    </tr>\n",
       "    <tr>\n",
       "      <th>min</th>\n",
       "      <td>1.000001e+06</td>\n",
       "      <td>0.000000</td>\n",
       "      <td>1.000000</td>\n",
       "      <td>12.000000</td>\n",
       "    </tr>\n",
       "    <tr>\n",
       "      <th>25%</th>\n",
       "      <td>1.001516e+06</td>\n",
       "      <td>2.000000</td>\n",
       "      <td>1.000000</td>\n",
       "      <td>5823.000000</td>\n",
       "    </tr>\n",
       "    <tr>\n",
       "      <th>50%</th>\n",
       "      <td>1.003077e+06</td>\n",
       "      <td>7.000000</td>\n",
       "      <td>5.000000</td>\n",
       "      <td>8047.000000</td>\n",
       "    </tr>\n",
       "    <tr>\n",
       "      <th>75%</th>\n",
       "      <td>1.004478e+06</td>\n",
       "      <td>14.000000</td>\n",
       "      <td>8.000000</td>\n",
       "      <td>12054.000000</td>\n",
       "    </tr>\n",
       "    <tr>\n",
       "      <th>max</th>\n",
       "      <td>1.006040e+06</td>\n",
       "      <td>20.000000</td>\n",
       "      <td>20.000000</td>\n",
       "      <td>23961.000000</td>\n",
       "    </tr>\n",
       "  </tbody>\n",
       "</table>\n",
       "</div>"
      ],
      "text/plain": [
       "            User_ID     Occupation  Product_Category       Purchase\n",
       "count  5.500680e+05  550068.000000     550068.000000  550068.000000\n",
       "mean   1.003029e+06       8.076707          5.404270    9263.968713\n",
       "std    1.727592e+03       6.522660          3.936211    5023.065394\n",
       "min    1.000001e+06       0.000000          1.000000      12.000000\n",
       "25%    1.001516e+06       2.000000          1.000000    5823.000000\n",
       "50%    1.003077e+06       7.000000          5.000000    8047.000000\n",
       "75%    1.004478e+06      14.000000          8.000000   12054.000000\n",
       "max    1.006040e+06      20.000000         20.000000   23961.000000"
      ]
     },
     "execution_count": 13,
     "metadata": {},
     "output_type": "execute_result"
    }
   ],
   "source": [
    "df.describe()"
   ]
  },
  {
   "cell_type": "markdown",
   "id": "bc31d9ff",
   "metadata": {},
   "source": [
    "# Exploratary Data Analysis:"
   ]
  },
  {
   "cell_type": "markdown",
   "id": "ab48e626",
   "metadata": {},
   "source": [
    "## Univariate Analysis"
   ]
  },
  {
   "cell_type": "code",
   "execution_count": 14,
   "id": "609b8031",
   "metadata": {},
   "outputs": [
    {
     "data": {
      "image/png": "[encoded data removed]",
      "text/plain": [
       "<Figure size 936x360 with 2 Axes>"
      ]
     },
     "metadata": {},
     "output_type": "display_data"
    }
   ],
   "source": [
    "plt.figure(figsize=(13,5))\n",
    "plt.subplot(1,2,1)\n",
    "plt.pie(df.Gender.value_counts(), \n",
    "        explode=(0.05,0.05), labels=df.Gender.value_counts().index, autopct='%1.1f%%', \n",
    "        colors=sns.color_palette('Pastel1'))\n",
    "plt.title('Gender Bifiguration', fontsize=20)\n",
    "\n",
    "plt.subplot(1,2,2)\n",
    "plt.pie(df.Marital_Status.value_counts(), \n",
    "        explode=(0.05,0.05), labels=df.Marital_Status.value_counts().index, autopct='%1.1f%%', \n",
    "        colors=sns.color_palette('hls'))\n",
    "plt.title('Marital_Status Bifiguration', fontsize=20)\n",
    "plt.show()"
   ]
  },
  {
   "cell_type": "markdown",
   "id": "669dcde5",
   "metadata": {},
   "source": [
    "### Observations: \n",
    "**Gender Bifiguration** and **Marital Status Bifiguration**:\n",
    "\n",
    "1. The data suggests that there are more females than males in the population represented by this chart.  The pie chart titled **Gender Bifiguration** shows that **59%** of the population is female and **41%** is male.\n",
    "\n",
    "2. The majority of people in the dataset are married.  The pie chart titled **Marital Status Bifiguration** shows that **75.3%** of the population is married.\n"
   ]
  },
  {
   "cell_type": "code",
   "execution_count": 15,
   "id": "fbd4efb6",
   "metadata": {},
   "outputs": [
    {
     "data": {
      "text/html": [
       "<div>\n",
       "<style scoped>\n",
       "    .dataframe tbody tr th:only-of-type {\n",
       "        vertical-align: middle;\n",
       "    }\n",
       "\n",
       "    .dataframe tbody tr th {\n",
       "        vertical-align: top;\n",
       "    }\n",
       "\n",
       "    .dataframe thead th {\n",
       "        text-align: right;\n",
       "    }\n",
       "</style>\n",
       "<table border=\"1\" class=\"dataframe\">\n",
       "  <thead>\n",
       "    <tr style=\"text-align: right;\">\n",
       "      <th></th>\n",
       "      <th>User_ID</th>\n",
       "      <th>Product_ID</th>\n",
       "      <th>Gender</th>\n",
       "      <th>Age</th>\n",
       "      <th>Occupation</th>\n",
       "      <th>City_Category</th>\n",
       "      <th>Stay_In_Current_City_Years</th>\n",
       "      <th>Marital_Status</th>\n",
       "      <th>Product_Category</th>\n",
       "      <th>Purchase</th>\n",
       "    </tr>\n",
       "  </thead>\n",
       "  <tbody>\n",
       "    <tr>\n",
       "      <th>0</th>\n",
       "      <td>1000001</td>\n",
       "      <td>P00069042</td>\n",
       "      <td>F</td>\n",
       "      <td>0-17</td>\n",
       "      <td>10</td>\n",
       "      <td>A</td>\n",
       "      <td>2</td>\n",
       "      <td>Married</td>\n",
       "      <td>3</td>\n",
       "      <td>8370</td>\n",
       "    </tr>\n",
       "    <tr>\n",
       "      <th>1</th>\n",
       "      <td>1000001</td>\n",
       "      <td>P00248942</td>\n",
       "      <td>F</td>\n",
       "      <td>0-17</td>\n",
       "      <td>10</td>\n",
       "      <td>A</td>\n",
       "      <td>2</td>\n",
       "      <td>Married</td>\n",
       "      <td>1</td>\n",
       "      <td>15200</td>\n",
       "    </tr>\n",
       "    <tr>\n",
       "      <th>2</th>\n",
       "      <td>1000001</td>\n",
       "      <td>P00087842</td>\n",
       "      <td>F</td>\n",
       "      <td>0-17</td>\n",
       "      <td>10</td>\n",
       "      <td>A</td>\n",
       "      <td>2</td>\n",
       "      <td>Married</td>\n",
       "      <td>12</td>\n",
       "      <td>1422</td>\n",
       "    </tr>\n",
       "    <tr>\n",
       "      <th>3</th>\n",
       "      <td>1000001</td>\n",
       "      <td>P00085442</td>\n",
       "      <td>F</td>\n",
       "      <td>0-17</td>\n",
       "      <td>10</td>\n",
       "      <td>A</td>\n",
       "      <td>2</td>\n",
       "      <td>Married</td>\n",
       "      <td>12</td>\n",
       "      <td>1057</td>\n",
       "    </tr>\n",
       "    <tr>\n",
       "      <th>4</th>\n",
       "      <td>1000002</td>\n",
       "      <td>P00285442</td>\n",
       "      <td>M</td>\n",
       "      <td>55+</td>\n",
       "      <td>16</td>\n",
       "      <td>C</td>\n",
       "      <td>4+</td>\n",
       "      <td>Married</td>\n",
       "      <td>8</td>\n",
       "      <td>7969</td>\n",
       "    </tr>\n",
       "  </tbody>\n",
       "</table>\n",
       "</div>"
      ],
      "text/plain": [
       "   User_ID Product_ID Gender   Age  Occupation City_Category  \\\n",
       "0  1000001  P00069042      F  0-17          10             A   \n",
       "1  1000001  P00248942      F  0-17          10             A   \n",
       "2  1000001  P00087842      F  0-17          10             A   \n",
       "3  1000001  P00085442      F  0-17          10             A   \n",
       "4  1000002  P00285442      M   55+          16             C   \n",
       "\n",
       "  Stay_In_Current_City_Years Marital_Status  Product_Category  Purchase  \n",
       "0                          2        Married                 3      8370  \n",
       "1                          2        Married                 1     15200  \n",
       "2                          2        Married                12      1422  \n",
       "3                          2        Married                12      1057  \n",
       "4                         4+        Married                 8      7969  "
      ]
     },
     "execution_count": 15,
     "metadata": {},
     "output_type": "execute_result"
    }
   ],
   "source": [
    "df.head()"
   ]
  },
  {
   "cell_type": "code",
   "execution_count": 16,
   "id": "15921425",
   "metadata": {},
   "outputs": [
    {
     "data": {
      "text/plain": [
       "26-35    219587\n",
       "36-45    110013\n",
       "18-25     99660\n",
       "46-50     45701\n",
       "51-55     38501\n",
       "55+       21504\n",
       "0-17      15102\n",
       "Name: Age, dtype: int64"
      ]
     },
     "execution_count": 16,
     "metadata": {},
     "output_type": "execute_result"
    }
   ],
   "source": [
    "df['Age'].value_counts()"
   ]
  },
  {
   "cell_type": "code",
   "execution_count": 17,
   "id": "78010b61",
   "metadata": {},
   "outputs": [
    {
     "data": {
      "image/png": "[encoded data removed]",
      "text/plain": [
       "<Figure size 1080x576 with 1 Axes>"
      ]
     },
     "metadata": {},
     "output_type": "display_data"
    }
   ],
   "source": [
    "plt.figure(figsize=(15,8))\n",
    "plt.pie(df.Age.value_counts(), \n",
    "        explode=(0.02,0.02,0.02,0.02,0.02,0.02,0.02), labels=df.Age.value_counts().index, autopct='%1.1f%%', \n",
    "        colors=sns.color_palette('hls'))\n",
    "plt.title('Age Bifiguration', fontsize=20)\n",
    "plt.show()"
   ]
  },
  {
   "cell_type": "markdown",
   "id": "d207e329",
   "metadata": {},
   "source": [
    "### Observations:\n",
    "1. **Age Group Preferences:**\n",
    "    - The **26-35** age group constitutes the largest segment, representing **39.9%** of the population.\n",
    "    - The **36-45** age group follows, accounting for **20.0%**.\n",
    "    - Young adults aged **18-25** make up **18.1%** of the total.\n",
    "\n",
    "2. **Market Segmentation:**\n",
    "    - Consider targeted marketing strategies for the **26-35** age group due to its significant representation.\n",
    "    - Recognize the declining interest in most categories as age increases beyond **35**.\n"
   ]
  },
  {
   "cell_type": "code",
   "execution_count": 18,
   "id": "aa595a34",
   "metadata": {},
   "outputs": [
    {
     "data": {
      "text/plain": [
       "array(['A', 'C', 'B'], dtype=object)"
      ]
     },
     "execution_count": 18,
     "metadata": {},
     "output_type": "execute_result"
    }
   ],
   "source": [
    "df['City_Category'].unique()"
   ]
  },
  {
   "cell_type": "code",
   "execution_count": 19,
   "id": "5338674a",
   "metadata": {},
   "outputs": [
    {
     "data": {
      "image/png": "[encoded data removed]",
      "text/plain": [
       "<Figure size 1440x432 with 1 Axes>"
      ]
     },
     "metadata": {
      "needs_background": "light"
     },
     "output_type": "display_data"
    }
   ],
   "source": [
    "plt.figure(figsize=(20,6))\n",
    "sns.countplot(data=df, x='City_Category', palette=(\"viridis\"))\n",
    "plt.show()"
   ]
  },
  {
   "cell_type": "markdown",
   "id": "31c9ea50",
   "metadata": {},
   "source": [
    "# Bivariate Analysis"
   ]
  },
  {
   "cell_type": "code",
   "execution_count": 20,
   "id": "15c4ef2e",
   "metadata": {},
   "outputs": [
    {
     "data": {
      "text/html": [
       "<div>\n",
       "<style scoped>\n",
       "    .dataframe tbody tr th:only-of-type {\n",
       "        vertical-align: middle;\n",
       "    }\n",
       "\n",
       "    .dataframe tbody tr th {\n",
       "        vertical-align: top;\n",
       "    }\n",
       "\n",
       "    .dataframe thead th {\n",
       "        text-align: right;\n",
       "    }\n",
       "</style>\n",
       "<table border=\"1\" class=\"dataframe\">\n",
       "  <thead>\n",
       "    <tr style=\"text-align: right;\">\n",
       "      <th></th>\n",
       "      <th>City_Category</th>\n",
       "      <th>count</th>\n",
       "    </tr>\n",
       "  </thead>\n",
       "  <tbody>\n",
       "    <tr>\n",
       "      <th>0</th>\n",
       "      <td>A</td>\n",
       "      <td>147720</td>\n",
       "    </tr>\n",
       "    <tr>\n",
       "      <th>1</th>\n",
       "      <td>B</td>\n",
       "      <td>231173</td>\n",
       "    </tr>\n",
       "    <tr>\n",
       "      <th>2</th>\n",
       "      <td>C</td>\n",
       "      <td>171175</td>\n",
       "    </tr>\n",
       "  </tbody>\n",
       "</table>\n",
       "</div>"
      ],
      "text/plain": [
       "  City_Category   count\n",
       "0             A  147720\n",
       "1             B  231173\n",
       "2             C  171175"
      ]
     },
     "execution_count": 20,
     "metadata": {},
     "output_type": "execute_result"
    }
   ],
   "source": [
    "df.groupby('City_Category').agg(count=('User_ID','count')).reset_index()"
   ]
  },
  {
   "cell_type": "code",
   "execution_count": 21,
   "id": "8f840a25",
   "metadata": {},
   "outputs": [
    {
     "data": {
      "image/png": "[encoded data removed]",
      "text/plain": [
       "<Figure size 1152x576 with 1 Axes>"
      ]
     },
     "metadata": {
      "needs_background": "light"
     },
     "output_type": "display_data"
    }
   ],
   "source": [
    "plt.figure(figsize=(16,8)).suptitle('Occupation vs Number of Customers:',fontsize=25)\n",
    "sns.countplot(x=df['Occupation'], palette=(\"viridis\"))\n",
    "plt.show()"
   ]
  },
  {
   "cell_type": "markdown",
   "id": "730b953d",
   "metadata": {},
   "source": [
    "### Observations and Recommendations:\n",
    "1. **Occupational Preferences:**\n",
    "    - Occupations labeled as **0**, **4**, and **7** have significantly higher customer counts.\n",
    "    - **Occupation 0** stands out with the highest number of customers.\n",
    "    - Occupations **5**, **6**, and **8-20** exhibit relatively lower customer engagement.\n",
    "\n",
    "2. **Market Segmentation:**\n",
    "    - Consider targeted marketing strategies for occupations with lower customer representation.\n",
    "    - Explore ways to enhance engagement with occupations beyond the top three.\n",
    "\n",
    "3. **Strategic Opportunities:**\n",
    "    - Occupation 0's popularity warrants further investigation for potential insights.\n",
    "    - Leverage data-driven approaches to optimize marketing efforts across different occupations.\n"
   ]
  },
  {
   "cell_type": "code",
   "execution_count": 22,
   "id": "15665064",
   "metadata": {},
   "outputs": [
    {
     "data": {
      "image/png": "[encoded data removed]",
      "text/plain": [
       "<Figure size 1152x576 with 1 Axes>"
      ]
     },
     "metadata": {
      "needs_background": "light"
     },
     "output_type": "display_data"
    }
   ],
   "source": [
    "plt.figure(figsize=(16,8)).suptitle('Different Age-Groups and Gender:',fontsize=25)\n",
    "sns.countplot(data=df, x='Age', hue='Gender', palette=(\"viridis\"))\n",
    "plt.show()"
   ]
  },
  {
   "cell_type": "markdown",
   "id": "f8b0d377",
   "metadata": {},
   "source": [
    "### Observations and Recommendations:\n",
    "1. **Age Group Preferences:**\n",
    "    - The age group **26-35** shows the highest count across both genders.\n",
    "    - **Females** dominate this age group, indicating their significant presence in consumer behavior.\n",
    "    - Conversely, the **55+** and **0-17** age groups exhibit lower participation.\n",
    "\n",
    "2. **Gender Disparity:**\n",
    "    - **Females** consistently outnumber **males** in all age categories.\n",
    "    - This gender disparity suggests targeted marketing efforts should consider female preferences.\n",
    "\n",
    "3. **Age and Market Segmentation:**\n",
    "    - Tailor marketing strategies based on age demographics.\n",
    "    - Focus on engaging the **26-35** age group, especially females.\n",
    "    - Recognize the declining interest in most categories as age increases.\n"
   ]
  },
  {
   "cell_type": "code",
   "execution_count": 23,
   "id": "15f89d3a",
   "metadata": {},
   "outputs": [
    {
     "data": {
      "text/plain": [
       "array([ 3,  1, 12,  8,  5,  4,  2,  6, 14, 11, 13, 15,  7, 16, 18, 10, 17,\n",
       "        9, 20, 19], dtype=int64)"
      ]
     },
     "execution_count": 23,
     "metadata": {},
     "output_type": "execute_result"
    }
   ],
   "source": [
    "df['Product_Category'].unique()"
   ]
  },
  {
   "cell_type": "code",
   "execution_count": 24,
   "id": "e267431c",
   "metadata": {},
   "outputs": [
    {
     "data": {
      "text/html": [
       "<div>\n",
       "<style scoped>\n",
       "    .dataframe tbody tr th:only-of-type {\n",
       "        vertical-align: middle;\n",
       "    }\n",
       "\n",
       "    .dataframe tbody tr th {\n",
       "        vertical-align: top;\n",
       "    }\n",
       "\n",
       "    .dataframe thead th {\n",
       "        text-align: right;\n",
       "    }\n",
       "</style>\n",
       "<table border=\"1\" class=\"dataframe\">\n",
       "  <thead>\n",
       "    <tr style=\"text-align: right;\">\n",
       "      <th></th>\n",
       "      <th>Product_Category</th>\n",
       "      <th>count</th>\n",
       "    </tr>\n",
       "  </thead>\n",
       "  <tbody>\n",
       "    <tr>\n",
       "      <th>0</th>\n",
       "      <td>1</td>\n",
       "      <td>493</td>\n",
       "    </tr>\n",
       "    <tr>\n",
       "      <th>1</th>\n",
       "      <td>2</td>\n",
       "      <td>152</td>\n",
       "    </tr>\n",
       "    <tr>\n",
       "      <th>2</th>\n",
       "      <td>3</td>\n",
       "      <td>90</td>\n",
       "    </tr>\n",
       "    <tr>\n",
       "      <th>3</th>\n",
       "      <td>4</td>\n",
       "      <td>88</td>\n",
       "    </tr>\n",
       "    <tr>\n",
       "      <th>4</th>\n",
       "      <td>5</td>\n",
       "      <td>967</td>\n",
       "    </tr>\n",
       "    <tr>\n",
       "      <th>5</th>\n",
       "      <td>6</td>\n",
       "      <td>119</td>\n",
       "    </tr>\n",
       "    <tr>\n",
       "      <th>6</th>\n",
       "      <td>7</td>\n",
       "      <td>102</td>\n",
       "    </tr>\n",
       "    <tr>\n",
       "      <th>7</th>\n",
       "      <td>8</td>\n",
       "      <td>1047</td>\n",
       "    </tr>\n",
       "    <tr>\n",
       "      <th>8</th>\n",
       "      <td>9</td>\n",
       "      <td>2</td>\n",
       "    </tr>\n",
       "    <tr>\n",
       "      <th>9</th>\n",
       "      <td>10</td>\n",
       "      <td>25</td>\n",
       "    </tr>\n",
       "    <tr>\n",
       "      <th>10</th>\n",
       "      <td>11</td>\n",
       "      <td>254</td>\n",
       "    </tr>\n",
       "    <tr>\n",
       "      <th>11</th>\n",
       "      <td>12</td>\n",
       "      <td>25</td>\n",
       "    </tr>\n",
       "    <tr>\n",
       "      <th>12</th>\n",
       "      <td>13</td>\n",
       "      <td>35</td>\n",
       "    </tr>\n",
       "    <tr>\n",
       "      <th>13</th>\n",
       "      <td>14</td>\n",
       "      <td>44</td>\n",
       "    </tr>\n",
       "    <tr>\n",
       "      <th>14</th>\n",
       "      <td>15</td>\n",
       "      <td>44</td>\n",
       "    </tr>\n",
       "    <tr>\n",
       "      <th>15</th>\n",
       "      <td>16</td>\n",
       "      <td>98</td>\n",
       "    </tr>\n",
       "    <tr>\n",
       "      <th>16</th>\n",
       "      <td>17</td>\n",
       "      <td>11</td>\n",
       "    </tr>\n",
       "    <tr>\n",
       "      <th>17</th>\n",
       "      <td>18</td>\n",
       "      <td>30</td>\n",
       "    </tr>\n",
       "    <tr>\n",
       "      <th>18</th>\n",
       "      <td>19</td>\n",
       "      <td>2</td>\n",
       "    </tr>\n",
       "    <tr>\n",
       "      <th>19</th>\n",
       "      <td>20</td>\n",
       "      <td>3</td>\n",
       "    </tr>\n",
       "  </tbody>\n",
       "</table>\n",
       "</div>"
      ],
      "text/plain": [
       "    Product_Category  count\n",
       "0                  1    493\n",
       "1                  2    152\n",
       "2                  3     90\n",
       "3                  4     88\n",
       "4                  5    967\n",
       "5                  6    119\n",
       "6                  7    102\n",
       "7                  8   1047\n",
       "8                  9      2\n",
       "9                 10     25\n",
       "10                11    254\n",
       "11                12     25\n",
       "12                13     35\n",
       "13                14     44\n",
       "14                15     44\n",
       "15                16     98\n",
       "16                17     11\n",
       "17                18     30\n",
       "18                19      2\n",
       "19                20      3"
      ]
     },
     "execution_count": 24,
     "metadata": {},
     "output_type": "execute_result"
    }
   ],
   "source": [
    "product_category = df.groupby(['Product_Category','Product_ID']).aggregate(count=('Product_ID','count')).reset_index()\n",
    "product_category = product_category.groupby(['Product_Category']).aggregate(count=('Product_ID','count')).reset_index()\n",
    "product_category"
   ]
  },
  {
   "cell_type": "code",
   "execution_count": 25,
   "id": "f9a04e3b",
   "metadata": {},
   "outputs": [
    {
     "data": {
      "image/png": "[encoded data removed]",
      "text/plain": [
       "<Figure size 1152x576 with 1 Axes>"
      ]
     },
     "metadata": {
      "needs_background": "light"
     },
     "output_type": "display_data"
    }
   ],
   "source": [
    "plt.figure(figsize=(16,8)).suptitle('Product Categories Count:',fontsize=25)\n",
    "sns.barplot(data=product_category,x='Product_Category', y='count', palette=(\"mako\"))\n",
    "plt.show()"
   ]
  },
  {
   "cell_type": "markdown",
   "id": "2d5796e7",
   "metadata": {},
   "source": [
    "# Multivariate Analysis:"
   ]
  },
  {
   "cell_type": "code",
   "execution_count": 26,
   "id": "919cb442",
   "metadata": {},
   "outputs": [
    {
     "name": "stderr",
     "output_type": "stream",
     "text": [
      "C:\\Users\\ASUS\\anaconda3\\lib\\site-packages\\seaborn\\_decorators.py:36: FutureWarning: Pass the following variable as a keyword arg: x. From version 0.12, the only valid positional argument will be `data`, and passing other arguments without an explicit keyword will result in an error or misinterpretation.\n",
      "  warnings.warn(\n"
     ]
    },
    {
     "data": {
      "image/png": "[encoded data removed]",
      "text/plain": [
       "<Figure size 1152x504 with 1 Axes>"
      ]
     },
     "metadata": {
      "needs_background": "light"
     },
     "output_type": "display_data"
    }
   ],
   "source": [
    "plt.figure(figsize=(16,7)).suptitle('Product Categories and Age Groups',fontsize=25)\n",
    "sns.countplot(df['Product_Category'], hue=df['Age'], palette=(\"turbo\"))\n",
    "plt.show()"
   ]
  },
  {
   "cell_type": "markdown",
   "id": "a7883f58",
   "metadata": {},
   "source": [
    "### Observations and Recommendations:\n",
    "\n",
    "1. **Product Preferences by Age:**\n",
    "    - **Product Category 1** is universally popular across all age groups, with a notable peak among consumers aged **0-17**.\n",
    "    - **Category 7** attracts significant interest from consumers aged **18-35**, indicating its relevance to young adults.\n",
    "    - **Category 9** also garners attention across various age groups, suggesting its broad appeal.\n",
    "\n",
    "2. **Age-Related Trends:**\n",
    "    - As age increases beyond **35**, interest in most product categories declines.\n",
    "    - Consumers aged **55+** exhibit lower engagement across all categories.\n",
    "\n",
    "3. **Marketing Implications:**\n",
    "    - Tailor marketing strategies based on age demographics.\n",
    "    - Focus on promoting **Category 1** to a diverse audience.\n",
    "    - Consider targeted campaigns for **Category 7** and **9** to capture specific age segments.\n"
   ]
  },
  {
   "cell_type": "code",
   "execution_count": 27,
   "id": "5cf8d42c",
   "metadata": {},
   "outputs": [
    {
     "data": {
      "image/png": "[encoded data removed]",
      "text/plain": [
       "<Figure size 864x360 with 1 Axes>"
      ]
     },
     "metadata": {
      "needs_background": "light"
     },
     "output_type": "display_data"
    }
   ],
   "source": [
    "plt.figure(figsize=(12,5)).suptitle('Age and Purchase Vs Martial status:',fontsize=25)\n",
    "sns.barplot(data=df,x='Age',y='Purchase', hue='Marital_Status', palette=(\"Dark2\"))\n",
    "plt.show()"
   ]
  },
  {
   "cell_type": "markdown",
   "id": "0d33d086",
   "metadata": {},
   "source": [
    "### Insights:\n",
    "- In this plot, a comparison among age, purchase behavior, and marital status indicates that all age groups are equally engaged as buyers, irrespective of marital status."
   ]
  },
  {
   "cell_type": "code",
   "execution_count": 28,
   "id": "ee9a74bc",
   "metadata": {},
   "outputs": [
    {
     "data": {
      "image/png": "[encoded data removed]",
      "text/plain": [
       "<Figure size 1080x504 with 1 Axes>"
      ]
     },
     "metadata": {
      "needs_background": "light"
     },
     "output_type": "display_data"
    }
   ],
   "source": [
    "plt.figure(figsize=(15,7)).suptitle(\"Product Category Vs Gender\", fontsize=25)\n",
    "sns.countplot(data=df, x='Product_Category', hue='Gender', palette=(\"Dark2_r\"))\n",
    "plt.show()"
   ]
  },
  {
   "cell_type": "markdown",
   "id": "f9ccaf88",
   "metadata": {},
   "source": [
    "### Observations:\n",
    "- The data analysis reveals a notable trend: product categories 1, 5, and 8 exhibit high demand, with male consumers emerging as predominant purchasers across nearly all categories in comparison to females."
   ]
  },
  {
   "cell_type": "code",
   "execution_count": 29,
   "id": "6a31e23e",
   "metadata": {},
   "outputs": [
    {
     "data": {
      "image/png": "[encoded data removed]",
      "text/plain": [
       "<Figure size 936x1080 with 2 Axes>"
      ]
     },
     "metadata": {
      "needs_background": "light"
     },
     "output_type": "display_data"
    }
   ],
   "source": [
    "plt.figure(figsize=(13,15)).suptitle('Product Category Vs Gender with Respect to Age Group',fontsize=25)\n",
    "\n",
    "plt.subplot(2,1,1)\n",
    "sns.countplot(data=df[df['Gender']=='M'], x='Product_Category', hue='Age', palette=(\"nipy_spectral\"))\n",
    "plt.title('Male', fontsize=15)\n",
    "\n",
    "plt.subplot(2,1,2)\n",
    "sns.countplot(data=df[df['Gender']=='F'], x='Product_Category', hue='Age', palette=(\"nipy_spectral_r\"))\n",
    "plt.title('Female', fontsize=15)\n",
    "\n",
    "plt.show()"
   ]
  },
  {
   "cell_type": "markdown",
   "id": "b060f7d4",
   "metadata": {},
   "source": [
    "### Observations:\n",
    "* **Females tend to purchase more products than males across most age groups.** This is especially true for the younger age groups (0-17 and 18-25). \n",
    "* **For females, there is a significant drop in the number of products purchased between the 26-35 and 36-45 age groups.** This could be due to factors such as entering the workforce and having less time for shopping, or a shift in priorities towards childcare or eldercare.\n",
    "* **For males, the number of products purchased tends to be more consistent across age groups.** There is a slight decrease in the number of products purchased in the 55+ age group, but this is not as pronounced as the decrease seen for females in the 36-45 age group.\n",
    "* **The specific product categories that are most popular with each gender group are not shown in this plot.** However, we can see that there is a wider variety of product categories purchased by females than by males. This suggests that females may be more likely to shop across a wider range of categories, while males may be more focused on a smaller number of categories.\n",
    "\n",
    "\n",
    "Overall, the plot suggests that there are some significant differences in purchasing behavior between males and females. Females tend to purchase more products overall, and their purchasing habits change more significantly as they age. It would be interesting to see further analysis of the data to see which product categories are most popular with each gender group."
   ]
  },
  {
   "cell_type": "code",
   "execution_count": 30,
   "id": "f1119a75",
   "metadata": {},
   "outputs": [
    {
     "data": {
      "image/png": "[encoded data removed]",
      "text/plain": [
       "<Figure size 576x504 with 2 Axes>"
      ]
     },
     "metadata": {
      "needs_background": "light"
     },
     "output_type": "display_data"
    }
   ],
   "source": [
    "plt.figure(figsize=(8,7)).suptitle('Heatmap: Correlations Intervals',fontsize=25)\n",
    "sns.heatmap(df.corr(),vmin=-0.2,vmax=0.1, cmap='coolwarm')\n",
    "plt.show()"
   ]
  },
  {
   "cell_type": "markdown",
   "id": "40b05746",
   "metadata": {},
   "source": [
    "### Insights:\n",
    "- The heatmap shows correlations between User ID, Occupation, Product Category, and Purchase.\n",
    "- The diagonal from the top left to the bottom right is red, indicating a strong positive correlation of 1 with themselves.\n",
    "- Notably, there is a negative correlation between Product Category and Purchase, depicted in blue."
   ]
  },
  {
   "cell_type": "markdown",
   "id": "bff243e3",
   "metadata": {},
   "source": [
    "## Gender Wise Analysis"
   ]
  },
  {
   "cell_type": "code",
   "execution_count": 31,
   "id": "ee6454cb",
   "metadata": {},
   "outputs": [
    {
     "data": {
      "text/html": [
       "<div>\n",
       "<style scoped>\n",
       "    .dataframe tbody tr th:only-of-type {\n",
       "        vertical-align: middle;\n",
       "    }\n",
       "\n",
       "    .dataframe tbody tr th {\n",
       "        vertical-align: top;\n",
       "    }\n",
       "\n",
       "    .dataframe thead th {\n",
       "        text-align: right;\n",
       "    }\n",
       "</style>\n",
       "<table border=\"1\" class=\"dataframe\">\n",
       "  <thead>\n",
       "    <tr style=\"text-align: right;\">\n",
       "      <th></th>\n",
       "      <th>User_ID</th>\n",
       "      <th>Gender</th>\n",
       "      <th>Purchase</th>\n",
       "    </tr>\n",
       "  </thead>\n",
       "  <tbody>\n",
       "    <tr>\n",
       "      <th>0</th>\n",
       "      <td>1000001</td>\n",
       "      <td>F</td>\n",
       "      <td>334093</td>\n",
       "    </tr>\n",
       "    <tr>\n",
       "      <th>1</th>\n",
       "      <td>1000002</td>\n",
       "      <td>M</td>\n",
       "      <td>810472</td>\n",
       "    </tr>\n",
       "    <tr>\n",
       "      <th>2</th>\n",
       "      <td>1000003</td>\n",
       "      <td>M</td>\n",
       "      <td>341635</td>\n",
       "    </tr>\n",
       "    <tr>\n",
       "      <th>3</th>\n",
       "      <td>1000004</td>\n",
       "      <td>M</td>\n",
       "      <td>206468</td>\n",
       "    </tr>\n",
       "    <tr>\n",
       "      <th>4</th>\n",
       "      <td>1000005</td>\n",
       "      <td>M</td>\n",
       "      <td>821001</td>\n",
       "    </tr>\n",
       "  </tbody>\n",
       "</table>\n",
       "</div>"
      ],
      "text/plain": [
       "   User_ID Gender  Purchase\n",
       "0  1000001      F    334093\n",
       "1  1000002      M    810472\n",
       "2  1000003      M    341635\n",
       "3  1000004      M    206468\n",
       "4  1000005      M    821001"
      ]
     },
     "execution_count": 31,
     "metadata": {},
     "output_type": "execute_result"
    }
   ],
   "source": [
    "Purchase_mean=df.groupby(['User_ID', 'Gender'])['Purchase'].sum().reset_index()\n",
    "Purchase_mean.head()"
   ]
  },
  {
   "cell_type": "code",
   "execution_count": 32,
   "id": "9a70bd4b",
   "metadata": {},
   "outputs": [
    {
     "data": {
      "text/plain": [
       "M    4225\n",
       "F    1666\n",
       "Name: Gender, dtype: int64"
      ]
     },
     "execution_count": 32,
     "metadata": {},
     "output_type": "execute_result"
    }
   ],
   "source": [
    "Purchase_mean['Gender'].value_counts()"
   ]
  },
  {
   "cell_type": "code",
   "execution_count": 33,
   "id": "5237a1cb",
   "metadata": {},
   "outputs": [
    {
     "data": {
      "image/png": "[encoded data removed]",
      "text/plain": [
       "<Figure size 1152x360 with 2 Axes>"
      ]
     },
     "metadata": {
      "needs_background": "light"
     },
     "output_type": "display_data"
    }
   ],
   "source": [
    "plt.figure(figsize=(16,5)).suptitle('Average spend Gender wise',fontsize=25)\n",
    "\n",
    "plt.subplot(1,2,1)\n",
    "sns.histplot(data=Purchase_mean[Purchase_mean['Gender']=='F']['Purchase'], palette=(\"Set1\"))\n",
    "plt.title(\"Female\")\n",
    "\n",
    "plt.subplot(1,2,2)\n",
    "sns.histplot(data=Purchase_mean[Purchase_mean['Gender']=='M']['Purchase'], palette=(\"Set1\"))\n",
    "plt.title(\"Male\")\n",
    "\n",
    "plt.show()"
   ]
  },
  {
   "cell_type": "markdown",
   "id": "bce6aa9c",
   "metadata": {},
   "source": [
    "### Obervations: \n",
    "- As we could see these points are not Normally distributed we need to do the analysis using central limit theorm."
   ]
  },
  {
   "cell_type": "code",
   "execution_count": 34,
   "id": "feed909b",
   "metadata": {},
   "outputs": [
    {
     "data": {
      "text/html": [
       "<div>\n",
       "<style scoped>\n",
       "    .dataframe tbody tr th:only-of-type {\n",
       "        vertical-align: middle;\n",
       "    }\n",
       "\n",
       "    .dataframe tbody tr th {\n",
       "        vertical-align: top;\n",
       "    }\n",
       "\n",
       "    .dataframe thead th {\n",
       "        text-align: right;\n",
       "    }\n",
       "</style>\n",
       "<table border=\"1\" class=\"dataframe\">\n",
       "  <thead>\n",
       "    <tr style=\"text-align: right;\">\n",
       "      <th></th>\n",
       "      <th>Gender</th>\n",
       "      <th>Purchase</th>\n",
       "    </tr>\n",
       "  </thead>\n",
       "  <tbody>\n",
       "    <tr>\n",
       "      <th>0</th>\n",
       "      <td>F</td>\n",
       "      <td>712024.39</td>\n",
       "    </tr>\n",
       "    <tr>\n",
       "      <th>1</th>\n",
       "      <td>M</td>\n",
       "      <td>925344.40</td>\n",
       "    </tr>\n",
       "  </tbody>\n",
       "</table>\n",
       "</div>"
      ],
      "text/plain": [
       "  Gender   Purchase\n",
       "0      F  712024.39\n",
       "1      M  925344.40"
      ]
     },
     "execution_count": 34,
     "metadata": {},
     "output_type": "execute_result"
    }
   ],
   "source": [
    "Gen_mean=Purchase_mean.groupby('Gender')['Purchase'].mean().reset_index()\n",
    "Gen_mean.round(2)"
   ]
  },
  {
   "cell_type": "code",
   "execution_count": 35,
   "id": "8b3acce0",
   "metadata": {},
   "outputs": [],
   "source": [
    "Mal_mean=Purchase_mean[Purchase_mean['Gender']=='M']\n",
    "Fem_mean=Purchase_mean[Purchase_mean['Gender']=='F']"
   ]
  },
  {
   "cell_type": "markdown",
   "id": "4fbed078",
   "metadata": {},
   "source": [
    "## Central Limit Theorem (CLT) over the Gender with Respect to Purchase"
   ]
  },
  {
   "cell_type": "code",
   "execution_count": 36,
   "id": "3d0fcbe3",
   "metadata": {},
   "outputs": [],
   "source": [
    "Fem_sample = [np.mean(Fem_mean.sample(1500)['Purchase']) for i in range(1000) ]\n",
    "Mal_sample = [np.mean(Mal_mean.sample(3000)['Purchase']) for i in range(1000) ]"
   ]
  },
  {
   "cell_type": "code",
   "execution_count": 37,
   "id": "71f7977f",
   "metadata": {},
   "outputs": [
    {
     "data": {
      "image/png": "[encoded data removed]",
      "text/plain": [
       "<Figure size 1152x360 with 2 Axes>"
      ]
     },
     "metadata": {
      "needs_background": "light"
     },
     "output_type": "display_data"
    }
   ],
   "source": [
    "plt.figure(figsize=(16,5)).suptitle(\"Mean Disrtubtion of Spend with Random Samples of Genders\", fontsize=25)\n",
    "\n",
    "plt.subplot(1,2,1)\n",
    "sns.histplot(data=Fem_sample, kde=True, element='step', palette=(\"Set1\"))\n",
    "plt.title('Female')\n",
    "\n",
    "plt.subplot(1,2,2)\n",
    "sns.histplot(data=Mal_sample, kde=True, element='step', palette=(\"Set1\"))\n",
    "plt.title('Male')\n",
    "\n",
    "plt.show()"
   ]
  },
  {
   "cell_type": "markdown",
   "id": "6579d899",
   "metadata": {},
   "source": [
    "### Observations:\n",
    "- After implementing the Central limit theorm we could see that the points are now normally distributed by which we could do the assumptions alog with the analysis"
   ]
  },
  {
   "cell_type": "code",
   "execution_count": 38,
   "id": "1859065e",
   "metadata": {},
   "outputs": [
    {
     "name": "stdout",
     "output_type": "stream",
     "text": [
      "Standard Devation of Spend over samples:\n",
      " Male: 9686.783496256401 \n",
      " Female: 6452.902591597058\n"
     ]
    }
   ],
   "source": [
    "std_M= np.std(Mal_sample)\n",
    "std_F= np.std(Fem_sample)\n",
    "print(\"Standard Devation of Spend over samples:\\n Male:\",std_M , \"\\n Female:\", std_F)"
   ]
  },
  {
   "cell_type": "code",
   "execution_count": 39,
   "id": "23a04cf0",
   "metadata": {},
   "outputs": [
    {
     "name": "stdout",
     "output_type": "stream",
     "text": [
      "Confidence Interval for Spend over all samples:\n",
      " Male: (924403.0865453115, 925202.981939355) \n",
      " Female: (711481.7848689782, 712281.6802630217)\n"
     ]
    }
   ],
   "source": [
    "Fem_CI=norm.interval(0.95,loc=np.mean(Fem_sample),scale=std_F/np.sqrt(len(Fem_sample)))\n",
    "Mal_CI=norm.interval(0.95,loc=np.mean(Mal_sample),scale=std_F/np.sqrt(len(Mal_sample)))\n",
    "print(\"Confidence Interval for Spend over all samples:\\n Male:\",Mal_CI , \"\\n Female:\", Fem_CI)"
   ]
  },
  {
   "cell_type": "code",
   "execution_count": 40,
   "id": "a051de53",
   "metadata": {},
   "outputs": [
    {
     "name": "stdout",
     "output_type": "stream",
     "text": [
      "Confidence Interval for Spend over 300 samples:\n",
      "Male: (924072.8329907298, 925533.2354939367) \n",
      "Female: (711151.5313143965, 712611.9338176034)\n"
     ]
    }
   ],
   "source": [
    "Fem_CI=norm.interval(0.95,loc=np.mean(Fem_sample),scale=std_F/np.sqrt(300))\n",
    "Mal_CI=norm.interval(0.95,loc=np.mean(Mal_sample),scale=std_F/np.sqrt(300))\n",
    "print(\"Confidence Interval for Spend over 300 samples:\\nMale:\",Mal_CI , \"\\nFemale:\", Fem_CI)"
   ]
  },
  {
   "cell_type": "code",
   "execution_count": 41,
   "id": "7d133bb8",
   "metadata": {},
   "outputs": [
    {
     "name": "stdout",
     "output_type": "stream",
     "text": [
      "Confidence Interval for Spend over 3000 samples:\n",
      "Male: (924572.124331796, 925033.9441528706) \n",
      "Female: (711650.8226554627, 712112.6424765373)\n"
     ]
    }
   ],
   "source": [
    "Fem_CI=norm.interval(0.95,loc=np.mean(Fem_sample),scale=std_F/np.sqrt(3000))\n",
    "Mal_CI=norm.interval(0.95,loc=np.mean(Mal_sample),scale=std_F/np.sqrt(3000))\n",
    "print(\"Confidence Interval for Spend over 3000 samples:\\nMale:\",Mal_CI , \"\\nFemale:\", Fem_CI)"
   ]
  },
  {
   "cell_type": "markdown",
   "id": "bc78c8b0",
   "metadata": {},
   "source": [
    "## Observations: \n",
    "    \n",
    "1. The confidence interval computed using the entire dataset appears to be wider for both genders compared to the confidence interval computed using 300 samples. This is expected because when using the entire dataset, there is more variability present in the data, leading to wider confidence intervals.\n",
    "\n",
    "2. The width of the confidence interval is typically affected by the sample size. As the sample size increases, the width of the confidence interval tends to decrease. This is because larger sample sizes provide more information about the population, resulting in more precise estimates and narrower intervals.\n",
    "\n",
    "3. Yes, the confidence intervals for different sample sizes overlap. Both genders have overlapping intervals for both the entire dataset and the 300 samples. Overlapping confidence intervals suggest that there is no statistically significant difference between the means of the two genders at the chosen confidence level.\n",
    "\n",
    "4. As the sample size increases, the shape of the distribution of the means tends to become more normally distributed. This phenomenon is described by the Central Limit Theorem, which states that as sample size increases, the distribution of the sample means approaches a normal distribution, regardless of the shape of the population distribution. Therefore, with larger sample sizes, the distribution of the means becomes more symmetric and bell-shaped.\n"
   ]
  },
  {
   "cell_type": "markdown",
   "id": "b5b2b0d6",
   "metadata": {},
   "source": [
    "## Maritial Status Wise Analysis:"
   ]
  },
  {
   "cell_type": "code",
   "execution_count": 42,
   "id": "66e9db13",
   "metadata": {},
   "outputs": [
    {
     "data": {
      "text/html": [
       "<div>\n",
       "<style scoped>\n",
       "    .dataframe tbody tr th:only-of-type {\n",
       "        vertical-align: middle;\n",
       "    }\n",
       "\n",
       "    .dataframe tbody tr th {\n",
       "        vertical-align: top;\n",
       "    }\n",
       "\n",
       "    .dataframe thead th {\n",
       "        text-align: right;\n",
       "    }\n",
       "</style>\n",
       "<table border=\"1\" class=\"dataframe\">\n",
       "  <thead>\n",
       "    <tr style=\"text-align: right;\">\n",
       "      <th></th>\n",
       "      <th>User_ID</th>\n",
       "      <th>Marital_Status</th>\n",
       "      <th>Purchase</th>\n",
       "    </tr>\n",
       "  </thead>\n",
       "  <tbody>\n",
       "    <tr>\n",
       "      <th>0</th>\n",
       "      <td>1000001</td>\n",
       "      <td>Married</td>\n",
       "      <td>334093</td>\n",
       "    </tr>\n",
       "    <tr>\n",
       "      <th>1</th>\n",
       "      <td>1000002</td>\n",
       "      <td>Married</td>\n",
       "      <td>810472</td>\n",
       "    </tr>\n",
       "    <tr>\n",
       "      <th>2</th>\n",
       "      <td>1000003</td>\n",
       "      <td>Married</td>\n",
       "      <td>341635</td>\n",
       "    </tr>\n",
       "    <tr>\n",
       "      <th>3</th>\n",
       "      <td>1000004</td>\n",
       "      <td>Unmarried</td>\n",
       "      <td>206468</td>\n",
       "    </tr>\n",
       "    <tr>\n",
       "      <th>4</th>\n",
       "      <td>1000005</td>\n",
       "      <td>Unmarried</td>\n",
       "      <td>821001</td>\n",
       "    </tr>\n",
       "  </tbody>\n",
       "</table>\n",
       "</div>"
      ],
      "text/plain": [
       "   User_ID Marital_Status  Purchase\n",
       "0  1000001        Married    334093\n",
       "1  1000002        Married    810472\n",
       "2  1000003        Married    341635\n",
       "3  1000004      Unmarried    206468\n",
       "4  1000005      Unmarried    821001"
      ]
     },
     "execution_count": 42,
     "metadata": {},
     "output_type": "execute_result"
    }
   ],
   "source": [
    "Marital_Status_mean=df.groupby(['User_ID', 'Marital_Status'])['Purchase'].sum().reset_index()\n",
    "Marital_Status_mean.head()"
   ]
  },
  {
   "cell_type": "code",
   "execution_count": 43,
   "id": "9261ab13",
   "metadata": {},
   "outputs": [
    {
     "data": {
      "text/plain": [
       "Married      3417\n",
       "Unmarried    2474\n",
       "Name: Marital_Status, dtype: int64"
      ]
     },
     "execution_count": 43,
     "metadata": {},
     "output_type": "execute_result"
    }
   ],
   "source": [
    "Marital_Status_mean['Marital_Status'].value_counts()"
   ]
  },
  {
   "cell_type": "code",
   "execution_count": 44,
   "id": "35a897fd",
   "metadata": {},
   "outputs": [
    {
     "data": {
      "image/png": "[encoded data removed]",
      "text/plain": [
       "<Figure size 1152x360 with 2 Axes>"
      ]
     },
     "metadata": {
      "needs_background": "light"
     },
     "output_type": "display_data"
    }
   ],
   "source": [
    "plt.figure(figsize=(16,5)).suptitle('Average Spend Marital_Status Wise',fontsize=25)\n",
    "\n",
    "plt.subplot(1,2,1)\n",
    "sns.histplot(data=Marital_Status_mean[Marital_Status_mean['Marital_Status']=='Married']['Purchase'], palette=(\"Accent2\"))\n",
    "plt.title(\"Married\")\n",
    "\n",
    "plt.subplot(1,2,2)\n",
    "sns.histplot(data=Marital_Status_mean[Marital_Status_mean['Marital_Status']=='Unmarried']['Purchase'], palette=(\"Accen\"))\n",
    "plt.title(\"Unmarried\")\n",
    "\n",
    "plt.show()"
   ]
  },
  {
   "cell_type": "code",
   "execution_count": 45,
   "id": "bbca104e",
   "metadata": {},
   "outputs": [
    {
     "data": {
      "text/html": [
       "<div>\n",
       "<style scoped>\n",
       "    .dataframe tbody tr th:only-of-type {\n",
       "        vertical-align: middle;\n",
       "    }\n",
       "\n",
       "    .dataframe tbody tr th {\n",
       "        vertical-align: top;\n",
       "    }\n",
       "\n",
       "    .dataframe thead th {\n",
       "        text-align: right;\n",
       "    }\n",
       "</style>\n",
       "<table border=\"1\" class=\"dataframe\">\n",
       "  <thead>\n",
       "    <tr style=\"text-align: right;\">\n",
       "      <th></th>\n",
       "      <th>Marital_Status</th>\n",
       "      <th>Purchase</th>\n",
       "    </tr>\n",
       "  </thead>\n",
       "  <tbody>\n",
       "    <tr>\n",
       "      <th>0</th>\n",
       "      <td>Married</td>\n",
       "      <td>880575.78</td>\n",
       "    </tr>\n",
       "    <tr>\n",
       "      <th>1</th>\n",
       "      <td>Unmarried</td>\n",
       "      <td>843526.80</td>\n",
       "    </tr>\n",
       "  </tbody>\n",
       "</table>\n",
       "</div>"
      ],
      "text/plain": [
       "  Marital_Status   Purchase\n",
       "0        Married  880575.78\n",
       "1      Unmarried  843526.80"
      ]
     },
     "execution_count": 45,
     "metadata": {},
     "output_type": "execute_result"
    }
   ],
   "source": [
    "Marital_Status_pur_mean=Marital_Status_mean.groupby('Marital_Status')['Purchase'].mean().reset_index()\n",
    "Marital_Status_pur_mean.round(2)"
   ]
  },
  {
   "cell_type": "markdown",
   "id": "8787ec6d",
   "metadata": {},
   "source": [
    "## Central Limit Theorem (CLT) over the Maritial Status with Respect to Purchase"
   ]
  },
  {
   "cell_type": "code",
   "execution_count": 46,
   "id": "4d0902f3",
   "metadata": {},
   "outputs": [],
   "source": [
    "Mar_mean=Marital_Status_mean[Marital_Status_mean['Marital_Status']=='Married']\n",
    "Unmar_mean=Marital_Status_mean[Marital_Status_mean['Marital_Status']=='Unmarried']"
   ]
  },
  {
   "cell_type": "code",
   "execution_count": 47,
   "id": "96332945",
   "metadata": {},
   "outputs": [],
   "source": [
    "Mar_sample = [np.mean(Mar_mean.sample(3000, replace=True)['Purchase']) for i in range(1000) ]\n",
    "Unmar_sample = [np.mean(Unmar_mean.sample(2500, replace=True)['Purchase']) for i in range(1000) ]\n"
   ]
  },
  {
   "cell_type": "code",
   "execution_count": 48,
   "id": "93be1912",
   "metadata": {},
   "outputs": [
    {
     "data": {
      "image/png": "[encoded data removed]",
      "text/plain": [
       "<Figure size 1152x360 with 2 Axes>"
      ]
     },
     "metadata": {
      "needs_background": "light"
     },
     "output_type": "display_data"
    }
   ],
   "source": [
    "plt.figure(figsize=(16,5)).suptitle(\"Mean Disrtubtion of Spend with Random Samples of Martial Status\", fontsize=25)\n",
    "\n",
    "plt.subplot(1,2,1)\n",
    "sns.histplot(data=Mar_sample, kde=True, element='bars', palette=(\"Accent2\"))\n",
    "plt.title('Married')\n",
    "\n",
    "plt.subplot(1,2,2)\n",
    "sns.histplot(data=Unmar_sample, kde=True, element='bars', palette=(\"Accent2\"))\n",
    "plt.title('Unmarried')\n",
    "\n",
    "plt.show()"
   ]
  },
  {
   "cell_type": "code",
   "execution_count": 49,
   "id": "9d253784",
   "metadata": {},
   "outputs": [
    {
     "name": "stdout",
     "output_type": "stream",
     "text": [
      "Standard Devation of Spend over samples:\n",
      " Married: 17922.322856383784 \n",
      " Unmarried: 18170.850015578646\n"
     ]
    }
   ],
   "source": [
    "std_Mar= np.std(Mar_sample)\n",
    "std_Unmar= np.std(Unmar_sample)\n",
    "print(\"Standard Devation of Spend over samples:\\n Married:\",std_Mar , \"\\n Unmarried:\", std_Unmar)"
   ]
  },
  {
   "cell_type": "code",
   "execution_count": 50,
   "id": "081c0852",
   "metadata": {},
   "outputs": [
    {
     "name": "stdout",
     "output_type": "stream",
     "text": [
      "Confidience Interval for Spend over all samples:\n",
      " Married: (880436.4736839783, 881236.3690780218) \n",
      " Unmarried: (842829.7776861782, 843629.6730802217)\n"
     ]
    }
   ],
   "source": [
    "Mar_CI=norm.interval(0.95,loc=np.mean(Mar_sample),scale=std_F/np.sqrt(len(Mar_sample)))\n",
    "Unmar_CI=norm.interval(0.95,loc=np.mean(Unmar_sample),scale=std_F/np.sqrt(len(Unmar_sample)))\n",
    "print(\"Confidience Interval for Spend over all samples:\\n Married:\",Mar_CI , \"\\n Unmarried:\", Unmar_CI)"
   ]
  },
  {
   "cell_type": "code",
   "execution_count": 51,
   "id": "225ac092",
   "metadata": {},
   "outputs": [
    {
     "name": "stdout",
     "output_type": "stream",
     "text": [
      "Confidence Interval for Spend over all samples:\n",
      " Married: (880106.2201293967, 881566.6226326035) \n",
      " Unmarried: (842499.5241315966, 843959.9266348034)\n"
     ]
    }
   ],
   "source": [
    "Mar_CI=norm.interval(0.95,loc=np.mean(Mar_sample),scale=std_F/np.sqrt(300))\n",
    "Unmar_CI=norm.interval(0.95,loc=np.mean(Unmar_sample),scale=std_F/np.sqrt(300))\n",
    "print(\"Confidence Interval for Spend over all samples:\\n Married:\",Mar_CI , \"\\n Unmarried:\", Unmar_CI)"
   ]
  },
  {
   "cell_type": "code",
   "execution_count": 52,
   "id": "35536e6a",
   "metadata": {},
   "outputs": [
    {
     "name": "stdout",
     "output_type": "stream",
     "text": [
      "Confidence Interval for Spend over all samples:\n",
      " Married: (880605.5114704628, 881067.3312915374) \n",
      " Unmarried: (842998.8154726627, 843460.6352937373)\n"
     ]
    }
   ],
   "source": [
    "Mar_CI=norm.interval(0.95,loc=np.mean(Mar_sample),scale=std_F/np.sqrt(3000))\n",
    "Unmar_CI=norm.interval(0.95,loc=np.mean(Unmar_sample),scale=std_F/np.sqrt(3000))\n",
    "print(\"Confidence Interval for Spend over all samples:\\n Married:\",Mar_CI , \"\\n Unmarried:\", Unmar_CI)"
   ]
  },
  {
   "cell_type": "markdown",
   "id": "b2c655d3",
   "metadata": {},
   "source": [
    "## Observations: \n",
    "Certainly! Here’s a concise and professional rephrasing:\n",
    "\n",
    "1. The confidence intervals computed using the entire dataset are wider for both marital statuses compared to those computed using specific sample sizes. This is because incorporating more variability from the entire dataset results in wider intervals.\n",
    "\n",
    "2. Sample size significantly affects the width of confidence intervals. As sample size increases, intervals tend to become narrower. Larger samples provide more precise estimates.\n",
    "\n",
    "3. The overlapping confidence intervals for different sample sizes indicate no statistically significant difference between the means of the two marital status groups at the chosen confidence level.\n",
    "\n",
    "Furthermore, as sample size increases, the distribution of means tends to approximate a normal distribution due to the Central Limit Theorem. This leads to a more symmetric and bell-shaped distribution.\"\n"
   ]
  },
  {
   "cell_type": "markdown",
   "id": "9e950bb5",
   "metadata": {},
   "source": [
    "## Age Wise Analysis"
   ]
  },
  {
   "cell_type": "code",
   "execution_count": 53,
   "id": "3b9aaeca",
   "metadata": {},
   "outputs": [
    {
     "data": {
      "text/html": [
       "<div>\n",
       "<style scoped>\n",
       "    .dataframe tbody tr th:only-of-type {\n",
       "        vertical-align: middle;\n",
       "    }\n",
       "\n",
       "    .dataframe tbody tr th {\n",
       "        vertical-align: top;\n",
       "    }\n",
       "\n",
       "    .dataframe thead th {\n",
       "        text-align: right;\n",
       "    }\n",
       "</style>\n",
       "<table border=\"1\" class=\"dataframe\">\n",
       "  <thead>\n",
       "    <tr style=\"text-align: right;\">\n",
       "      <th></th>\n",
       "      <th>User_ID</th>\n",
       "      <th>Age</th>\n",
       "      <th>Purchase</th>\n",
       "    </tr>\n",
       "  </thead>\n",
       "  <tbody>\n",
       "    <tr>\n",
       "      <th>0</th>\n",
       "      <td>1000001</td>\n",
       "      <td>0-17</td>\n",
       "      <td>334093</td>\n",
       "    </tr>\n",
       "    <tr>\n",
       "      <th>1</th>\n",
       "      <td>1000002</td>\n",
       "      <td>55+</td>\n",
       "      <td>810472</td>\n",
       "    </tr>\n",
       "    <tr>\n",
       "      <th>2</th>\n",
       "      <td>1000003</td>\n",
       "      <td>26-35</td>\n",
       "      <td>341635</td>\n",
       "    </tr>\n",
       "    <tr>\n",
       "      <th>3</th>\n",
       "      <td>1000004</td>\n",
       "      <td>46-50</td>\n",
       "      <td>206468</td>\n",
       "    </tr>\n",
       "    <tr>\n",
       "      <th>4</th>\n",
       "      <td>1000005</td>\n",
       "      <td>26-35</td>\n",
       "      <td>821001</td>\n",
       "    </tr>\n",
       "  </tbody>\n",
       "</table>\n",
       "</div>"
      ],
      "text/plain": [
       "   User_ID    Age  Purchase\n",
       "0  1000001   0-17    334093\n",
       "1  1000002    55+    810472\n",
       "2  1000003  26-35    341635\n",
       "3  1000004  46-50    206468\n",
       "4  1000005  26-35    821001"
      ]
     },
     "execution_count": 53,
     "metadata": {},
     "output_type": "execute_result"
    }
   ],
   "source": [
    "Age_mean= df.groupby(['User_ID', 'Age'])[['Purchase']].sum().reset_index()\n",
    "Age_mean.head()"
   ]
  },
  {
   "cell_type": "code",
   "execution_count": 54,
   "id": "a8e90ff9",
   "metadata": {},
   "outputs": [
    {
     "data": {
      "text/plain": [
       "26-35    2053\n",
       "36-45    1167\n",
       "18-25    1069\n",
       "46-50     531\n",
       "51-55     481\n",
       "55+       372\n",
       "0-17      218\n",
       "Name: Age, dtype: int64"
      ]
     },
     "execution_count": 54,
     "metadata": {},
     "output_type": "execute_result"
    }
   ],
   "source": [
    "Age_mean['Age'].value_counts()"
   ]
  },
  {
   "cell_type": "code",
   "execution_count": 55,
   "id": "ab3242fb",
   "metadata": {},
   "outputs": [
    {
     "data": {
      "text/plain": [
       "['0-17', '55+', '26-35', '46-50', '51-55', '36-45', '18-25']"
      ]
     },
     "execution_count": 55,
     "metadata": {},
     "output_type": "execute_result"
    }
   ],
   "source": [
    "Age=df['Age'].unique()\n",
    "Age=list(Age)\n",
    "Age"
   ]
  },
  {
   "cell_type": "markdown",
   "id": "513ad007",
   "metadata": {},
   "source": [
    "## Central Limit Theorem (CLT) over the Age with Respect to Purchase"
   ]
  },
  {
   "cell_type": "code",
   "execution_count": 57,
   "id": "e73ae54b",
   "metadata": {},
   "outputs": [
    {
     "data": {
      "text/plain": [
       "{'0-17': [],\n",
       " '55+': [],\n",
       " '26-35': [],\n",
       " '46-50': [],\n",
       " '51-55': [],\n",
       " '36-45': [],\n",
       " '18-25': []}"
      ]
     },
     "execution_count": 57,
     "metadata": {},
     "output_type": "execute_result"
    }
   ],
   "source": [
    "Age_means = {}\n",
    "\n",
    "Age_intervals = Age\n",
    "for Age_grp in Age_intervals:\n",
    "    Age_means[Age_grp] = []\n",
    "Age_means"
   ]
  },
  {
   "cell_type": "code",
   "execution_count": 58,
   "id": "c9cf5bd8",
   "metadata": {},
   "outputs": [],
   "source": [
    "for Age_grp in Age_intervals:\n",
    "    for _ in range(1000):\n",
    "        mean = df[df['Age']==Age_grp].sample(200, replace=True)['Purchase'].mean()\n",
    "        Age_means[Age_grp].append(mean)\n"
   ]
  },
  {
   "cell_type": "code",
   "execution_count": 59,
   "id": "7b283c81",
   "metadata": {},
   "outputs": [
    {
     "name": "stdout",
     "output_type": "stream",
     "text": [
      "For age 0-17 --> confidence interval:(8851.947970542686, 9014.981310347262)\n",
      "For age 55+ --> confidence interval:(9269.29883441773, 9403.262084481079)\n",
      "For age 26-35 --> confidence interval:(9231.73367640003, 9273.647589339746)\n",
      "For age 46-50 --> confidence interval:(9163.085142648752, 9254.166252287903)\n",
      "For age 51-55 --> confidence interval:(9483.991472776577, 9585.624589143894)\n",
      "For age 36-45 --> confidence interval:(9301.669410965314, 9361.031978870433)\n",
      "For age 18-25 --> confidence interval:(9138.407948753442, 9200.919263769136)\n"
     ]
    }
   ],
   "source": [
    "for i in Age:\n",
    "    new_df=df[df['Age']==i]\n",
    "    CI= norm.interval(0.95,loc=new_df['Purchase'].mean(), scale=new_df['Purchase'].std()/np.sqrt(len(new_df)))\n",
    "    print(\"For age {} --> confidence interval:{}\".format(i, CI))"
   ]
  },
  {
   "cell_type": "code",
   "execution_count": null,
   "id": "4f8d341d",
   "metadata": {},
   "outputs": [],
   "source": []
  },
  {
   "cell_type": "markdown",
   "id": "8322ab82",
   "metadata": {},
   "source": [
    "## Insights:\n",
    "\n",
    "1. A significant majority, approximately **80%**, of users fall within the age range of **18-50**, with the highest concentration in the **26-35 age group (40%)**, followed by **18-25 (18%)** and **36-45 (20%)**.\n",
    "2. The user base is predominantly **Male**, comprising **75%** of the total users, with **Females** accounting for the remaining **25%**.\n",
    "3. Among the users, **60% are single, while 40% are married**.\n",
    "4. City residency distribution reveals that 35% of users have resided for one year, 18% for two years, and 17% for three years.\n",
    "5. The dataset encompasses a total of 20 product categories and 20 distinct occupation types.\n",
    "6. Notably, product categories **1, 5, 8, and 11** demonstrate the highest purchasing frequencies, indicating strong consumer preference for products within these categories.\n",
    "7. On average, **Male** customers spend approximately **925,344.40**, while **Female** customers spend **712,024.39**.\n",
    "8. Utilizing the Central Limit Theorem, the 95% confidence intervals for the average spend by male and female customers are estimated as follows:\n",
    "   - **Male: (925,556.037, 926,341.059)**\n",
    "   - **Female: (711,662.974, 712,447.996)**\n",
    "9. Confidence intervals for marital status reveal the following ranges for mean spending:\n",
    "   - **Married: (806,668.83, 880,384.76)**\n",
    "   - **Unmarried: (848,741.18, 912,410.38)**\n",
    "10. Confidence intervals for different age groups suggest variations in spending patterns:\n",
    "    - **Age 0-17: (8,851.95, 9,014.98)**\n",
    "    - **Age 55+: (9,269.30, 9,403.26)**\n",
    "    - **Age 26-35: (9,231.73, 9,273.65)**\n",
    "    - **Age 46-50: (9,163.09, 9,254.17)**\n",
    "    - **Age 51-55: (9,483.99, 9,585.62)**\n",
    "    - **Age 36-45: (9,301.67, 9,361.03)**\n",
    "    - **Age 18-25: (9,138.41, 9,200.92)**\n",
    "\n",
    "## Recommendations:\n",
    "\n",
    "1. Prioritize customer retention strategies targeting male customers, given their higher spending propensity compared to females.\n",
    "2. Allocate resources towards product categories 1, 5, 8, and 11, which exhibit the highest purchasing frequencies, while also exploring strategies to enhance sales of less popular products.\n",
    "3. Develop marketing campaigns tailored to unmarried customers, as they tend to spend more than their married counterparts.\n",
    "4. Focus acquisition efforts on the age demographic of 18-45, which represents the most financially active segment within the user base.\n",
    "5. Direct marketing initiatives towards male customers residing in City_Category C, as they demonstrate higher spending patterns compared to counterparts in other city categories, thereby potentially increasing revenue streams."
   ]
  },
  {
   "cell_type": "code",
   "execution_count": null,
   "id": "5ef280b4",
   "metadata": {},
   "outputs": [],
   "source": []
  }
 ],
 "metadata": {
  "kernelspec": {
   "display_name": "Python 3",
   "language": "python",
   "name": "python3"
  },
  "language_info": {
   "codemirror_mode": {
    "name": "ipython",
    "version": 3
   },
   "file_extension": ".py",
   "mimetype": "text/x-python",
   "name": "python",
   "nbconvert_exporter": "python",
   "pygments_lexer": "ipython3",
   "version": "3.8.8"
  }
 },
 "nbformat": 4,
 "nbformat_minor": 5
}
